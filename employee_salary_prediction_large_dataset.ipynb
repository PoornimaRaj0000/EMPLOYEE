{
 "cells": [
  {
   "cell_type": "markdown",
   "id": "afa10540",
   "metadata": {},
   "source": [
    "\n",
    "# Employee Salary Prediction using Linear Regression (Large Dataset)\n",
    "\n",
    "This notebook creates a large synthetic dataset and builds a salary prediction model using Linear Regression.\n"
   ]
  },
  {
   "cell_type": "code",
   "execution_count": null,
   "id": "ff2d323f",
   "metadata": {},
   "outputs": [],
   "source": [
    "\n",
    "# Step 1: Import Libraries\n",
    "import pandas as pd\n",
    "import numpy as np\n",
    "import matplotlib.pyplot as plt\n",
    "from sklearn.model_selection import train_test_split\n",
    "from sklearn.linear_model import LinearRegression\n",
    "from sklearn.preprocessing import OneHotEncoder\n",
    "from sklearn.compose import ColumnTransformer\n",
    "from sklearn.metrics import mean_squared_error, r2_score\n"
   ]
  },
  {
   "cell_type": "code",
   "execution_count": null,
   "id": "c1bc5847",
   "metadata": {},
   "outputs": [],
   "source": [
    "\n",
    "# Step 2: Generate Large Synthetic Dataset\n",
    "np.random.seed(42)\n",
    "num_samples = 500\n",
    "\n",
    "experience = np.random.randint(0, 21, num_samples)\n",
    "education_levels = np.random.choice(['High School', 'Bachelor', 'Master', 'PhD'], num_samples)\n",
    "job_titles = np.random.choice(['Data Analyst', 'Software Engineer', 'Data Scientist', 'Manager', 'HR'], num_samples)\n",
    "locations = np.random.choice(['Bangalore', 'Delhi', 'Mumbai', 'Hyderabad', 'Chennai'], num_samples)\n",
    "\n",
    "# Salary generation logic\n",
    "base_salary = 25000 + (experience * 3000)\n",
    "education_bonus = {'High School': 0, 'Bachelor': 10000, 'Master': 20000, 'PhD': 30000}\n",
    "job_bonus = {'Data Analyst': 5000, 'Software Engineer': 15000, 'Data Scientist': 25000, 'Manager': 20000, 'HR': 10000}\n",
    "location_bonus = {'Bangalore': 5000, 'Delhi': 3000, 'Mumbai': 4000, 'Hyderabad': 3500, 'Chennai': 3200}\n",
    "\n",
    "salaries = []\n",
    "for i in range(num_samples):\n",
    "    salary = base_salary[i]\n",
    "    salary += education_bonus[education_levels[i]]\n",
    "    salary += job_bonus[job_titles[i]]\n",
    "    salary += location_bonus[locations[i]]\n",
    "    salary += np.random.normal(0, 5000)\n",
    "    salaries.append(int(salary))\n",
    "\n",
    "df = pd.DataFrame({\n",
    "    'Experience': experience,\n",
    "    'Education': education_levels,\n",
    "    'Job Title': job_titles,\n",
    "    'Location': locations,\n",
    "    'Salary': salaries\n",
    "})\n",
    "\n",
    "df.head()\n"
   ]
  },
  {
   "cell_type": "code",
   "execution_count": null,
   "id": "63886c55",
   "metadata": {},
   "outputs": [],
   "source": [
    "\n",
    "# Step 3: Data Preprocessing\n",
    "X = df.drop('Salary', axis=1)\n",
    "y = df['Salary']\n",
    "\n",
    "categorical_cols = ['Education', 'Job Title', 'Location']\n",
    "\n",
    "ct = ColumnTransformer(transformers=[\n",
    "    ('encoder', OneHotEncoder(drop='first'), categorical_cols)\n",
    "], remainder='passthrough')\n",
    "\n",
    "X_encoded = ct.fit_transform(X)\n"
   ]
  },
  {
   "cell_type": "code",
   "execution_count": null,
   "id": "e2ff8850",
   "metadata": {},
   "outputs": [],
   "source": [
    "\n",
    "# Step 4: Train-Test Split\n",
    "X_train, X_test, y_train, y_test = train_test_split(X_encoded, y, test_size=0.2, random_state=42)\n"
   ]
  },
  {
   "cell_type": "code",
   "execution_count": null,
   "id": "dace21c2",
   "metadata": {},
   "outputs": [],
   "source": [
    "\n",
    "# Step 5: Train the Model\n",
    "model = LinearRegression()\n",
    "model.fit(X_train, y_train)\n"
   ]
  },
  {
   "cell_type": "code",
   "execution_count": null,
   "id": "694c6a5f",
   "metadata": {},
   "outputs": [],
   "source": [
    "\n",
    "# Step 6: Predict and Evaluate\n",
    "y_pred = model.predict(X_test)\n",
    "print(\"R² Score:\", r2_score(y_test, y_pred))\n",
    "print(\"Mean Squared Error:\", mean_squared_error(y_test, y_pred))\n"
   ]
  },
  {
   "cell_type": "code",
   "execution_count": null,
   "id": "216f561e",
   "metadata": {},
   "outputs": [],
   "source": [
    "\n",
    "# Step 7: Visualization\n",
    "plt.figure(figsize=(6,4))\n",
    "plt.scatter(y_test, y_pred, color='blue', alpha=0.6)\n",
    "plt.plot([min(y_test), max(y_test)], [min(y_test), max(y_test)], color='red', linestyle='--')\n",
    "plt.xlabel('Actual Salary')\n",
    "plt.ylabel('Predicted Salary')\n",
    "plt.title('Actual vs Predicted Salary')\n",
    "plt.grid(True)\n",
    "plt.show()\n"
   ]
  }
 ],
 "metadata": {},
 "nbformat": 4,
 "nbformat_minor": 5
}